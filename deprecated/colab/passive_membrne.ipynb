{
  "nbformat": 4,
  "nbformat_minor": 0,
  "metadata": {
    "colab": {
      "name": "passive membrne.ipynb",
      "provenance": [],
      "collapsed_sections": []
    },
    "kernelspec": {
      "name": "python3",
      "display_name": "Python 3"
    }
  },
  "cells": [
    {
      "cell_type": "markdown",
      "metadata": {
        "id": "6alRJH06SCAe"
      },
      "source": [
        "#Passive Membrane Potential Simulations\n",
        "The membrane of Neurons act like capacitors. Let's simulate how a passive membrane pontential changes as we inject current.\n",
        "\n",
        "As always, let's import what we need"
      ]
    },
    {
      "cell_type": "code",
      "metadata": {
        "id": "oeejWOHwwyQS"
      },
      "source": [
        "import numpy as np\n",
        "from matplotlib import pyplot as plt\n",
        "from math import exp"
      ],
      "execution_count": 66,
      "outputs": []
    },
    {
      "cell_type": "markdown",
      "metadata": {
        "id": "CWha8xDQSgGS"
      },
      "source": [
        "Initialize the [Tao](https://en.wikipedia.org/wiki/Time_constant), and set the rest membrane potential, and membrane resistant. The membrane is like an electric circuit after all."
      ]
    },
    {
      "cell_type": "code",
      "metadata": {
        "id": "yT1MK74KTIWE"
      },
      "source": [
        "tao = 10\n",
        "u_rest = -50\n",
        "R = 1"
      ],
      "execution_count": 76,
      "outputs": []
    },
    {
      "cell_type": "markdown",
      "metadata": {
        "id": "ckzIcBPLUk86"
      },
      "source": [
        "Define a function for membrane dynamics"
      ]
    },
    {
      "cell_type": "code",
      "metadata": {
        "id": "XghO9zsUUnql"
      },
      "source": [
        "def u(t, i, t_0=1000):\n",
        "    return u_rest + R*i(t)*(1-exp(-1*(t-t_0)/tao))"
      ],
      "execution_count": 77,
      "outputs": []
    },
    {
      "cell_type": "markdown",
      "metadata": {
        "id": "zfxCgLp_TTLw"
      },
      "source": [
        "Define simulation interval. And simulation program"
      ]
    },
    {
      "cell_type": "code",
      "metadata": {
        "id": "FghWsj4ZTetX"
      },
      "source": [
        "duration = 1000 #1000 ms is 1 sec\n",
        "dt = 1#simulation time step, 1 ms\n",
        "\n",
        "def u_numsim(I, duration=1000, dt=0.1):\n",
        "  \"\"\"\n",
        "  Numerical simulation of changes in passive membrane potential\n",
        "  \"\"\"\n",
        "  U = [u_rest]\n",
        "  T = [0]\n",
        "  for t in np.arange(0, duration, step=dt):\n",
        "    T.append(t)\n",
        "    U.append(U[-1]+dt*(1/tao*(-U[-1]+u_rest+R*I(t))))\n",
        "      \n",
        "  return (T, U)"
      ],
      "execution_count": 110,
      "outputs": []
    },
    {
      "cell_type": "markdown",
      "metadata": {
        "id": "xv7uFsuET2VW"
      },
      "source": [
        "Run simulations for Time (T), Current (I) and Membrane Potential (U). First with no current injected. A little boring I know!."
      ]
    },
    {
      "cell_type": "code",
      "metadata": {
        "colab": {
          "base_uri": "https://localhost:8080/",
          "height": 265
        },
        "id": "HNh6PB_OT1S4",
        "outputId": "01fde90e-29f9-4234-dfd9-3da3136677ef"
      },
      "source": [
        "U = []\n",
        "I = []\n",
        "T = []\n",
        "for t in np.arange(0, duration, step=1):\n",
        "  T.append(t)\n",
        "  I.append(u_rest)\n",
        "  # U.append(u(t, lambda x: -50))\n",
        "\n",
        "t, u_res = u_numsim(lambda x: 0, duration=duration, dt=dt)\n",
        "plt.xlim([75, 1000])\n",
        "plt.plot(t, u_res, color=\"red\")\n",
        "plt.plot(T, I)\n",
        "plt.show()\n",
        "    "
      ],
      "execution_count": 111,
      "outputs": [
        {
          "output_type": "display_data",
          "data": {
            "image/png": "[encoded data removed]",
            "text/plain": [
              "<Figure size 432x288 with 1 Axes>"
            ]
          },
          "metadata": {
            "tags": [],
            "needs_background": "light"
          }
        }
      ]
    },
    {
      "cell_type": "markdown",
      "metadata": {
        "id": "sdsKihHsTn7c"
      },
      "source": [
        "Let's now inject a forever 10mV current"
      ]
    },
    {
      "cell_type": "code",
      "metadata": {
        "colab": {
          "base_uri": "https://localhost:8080/",
          "height": 279
        },
        "id": "VO7i3vLlVU43",
        "outputId": "5f23be05-b038-404c-9647-d39fd06f0e6b"
      },
      "source": [
        "def step_current(t, lvl=10):\n",
        "  if t <= duration/2:\n",
        "    return 0\n",
        "  else:\n",
        "    return lvl\n",
        "  \n",
        "U = []\n",
        "I = []\n",
        "T = []\n",
        "for t in np.arange(0, duration, step=1):\n",
        "  T.append(t)\n",
        "  I.append(step_current(t))\n",
        "\n",
        "t, u_res = u_numsim(step_current, duration=duration, dt=dt)\n",
        "plt.xlim([75, 1000])\n",
        "plt.plot(t, u_res, color=\"red\")\n",
        "plt.plot(T, I)\n",
        "plt.xlabel('Time (ms)')\n",
        "plt.ylabel('Membrane Potential (mV)')\n",
        "plt.show()\n",
        "    "
      ],
      "execution_count": 116,
      "outputs": [
        {
          "output_type": "display_data",
          "data": {
            "image/png": "[encoded data removed]",
            "text/plain": [
              "<Figure size 432x288 with 1 Axes>"
            ]
          },
          "metadata": {
            "tags": [],
            "needs_background": "light"
          }
        }
      ]
    },
    {
      "cell_type": "markdown",
      "metadata": {
        "id": "Cugmy2YNYW2g"
      },
      "source": [
        "Now, a step function to see the dynamic"
      ]
    },
    {
      "cell_type": "code",
      "metadata": {
        "id": "VEJe3C9Ow19I",
        "colab": {
          "base_uri": "https://localhost:8080/",
          "height": 279
        },
        "outputId": "ca288678-fc72-4e77-84ef-1bf91366ecb3"
      },
      "source": [
        "def pulse_current(t, lvl=10):\n",
        "  \"\"\"\n",
        "  Injecting a step 10 mV current at 1/3 of the duration\n",
        "  \"\"\"\n",
        "  if t <= duration/3:\n",
        "    return 0\n",
        "  elif t < duration*2/3:\n",
        "    return lvl\n",
        "  else:\n",
        "    return 0\n",
        "  \n",
        "\n",
        "I = []\n",
        "T = []\n",
        "for t in np.arange(0, duration, step=1):\n",
        "  T.append(t)\n",
        "  I.append(pulse_current(t))\n",
        "\n",
        "t, u_res = u_numsim(pulse_current, duration=duration, dt=dt)\n",
        "plt.xlim([75, 1000])\n",
        "plt.plot(t, u_res, color=\"red\")\n",
        "plt.plot(T, I)\n",
        "plt.xlabel('Time (ms)')\n",
        "plt.ylabel('Membrane Potential (mV)')\n",
        "plt.show()"
      ],
      "execution_count": 122,
      "outputs": [
        {
          "output_type": "display_data",
          "data": {
            "image/png": "[encoded data removed]",
            "text/plain": [
              "<Figure size 432x288 with 1 Axes>"
            ]
          },
          "metadata": {
            "tags": [],
            "needs_background": "light"
          }
        }
      ]
    },
    {
      "cell_type": "markdown",
      "metadata": {
        "id": "AnKHsvrOaSkR"
      },
      "source": [
        "Very similar to a capcitance but real neuron's aren't activated strongly like this for a long time, let's try a variety of level and time interval of current injections."
      ]
    },
    {
      "cell_type": "code",
      "metadata": {
        "id": "kSaJnHcoxIv8",
        "colab": {
          "base_uri": "https://localhost:8080/",
          "height": 279
        },
        "outputId": "57dd2a75-2d0b-4a0f-f688-a77fb2437501"
      },
      "source": [
        "def pulse_current(t, lvl=50):\n",
        "  thresholds = [0,100,110,200,210]\n",
        "  levels = [0,40,0,40,0]\n",
        "\n",
        "  if t <= 100:\n",
        "    return 0\n",
        "  elif t > 100 and t <= 110:\n",
        "    return lvl\n",
        "  elif t > 200 and t <= 210:\n",
        "    return lvl\n",
        "  elif t > 300 and t <= 330:\n",
        "    return lvl\n",
        "  elif t > 400 and t <= 405:\n",
        "    return lvl\n",
        "  elif t > 410 and t <= 415:\n",
        "    return lvl\n",
        "  else:\n",
        "    return 0\n",
        "  \n",
        "\n",
        "I = []\n",
        "T = []\n",
        "for t in np.arange(0, duration, step=1):\n",
        "  T.append(t)\n",
        "  I.append(pulse_current(t))\n",
        "\n",
        "t, u_res = u_numsim(pulse_current, duration=duration, dt=dt)\n",
        "plt.xlim([75, 1000])\n",
        "plt.plot(t, u_res, color=\"red\")\n",
        "plt.plot(T, I)\n",
        "plt.xlabel('Time (ms)')\n",
        "plt.ylabel('Membrane Potential (mV)')\n",
        "plt.show()"
      ],
      "execution_count": 135,
      "outputs": [
        {
          "output_type": "display_data",
          "data": {
            "image/png": "[encoded data removed]",
            "text/plain": [
              "<Figure size 432x288 with 1 Axes>"
            ]
          },
          "metadata": {
            "tags": [],
            "needs_background": "light"
          }
        }
      ]
    },
    {
      "cell_type": "code",
      "metadata": {
        "id": "EPKYgBXqcKhB"
      },
      "source": [
        ""
      ],
      "execution_count": null,
      "outputs": []
    }
  ]
}