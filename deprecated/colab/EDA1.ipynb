{
  "nbformat": 4,
  "nbformat_minor": 0,
  "metadata": {
    "colab": {
      "name": "EDA1.ipynb",
      "provenance": []
    },
    "kernelspec": {
      "name": "python3",
      "display_name": "Python 3"
    }
  },
  "cells": [
    {
      "cell_type": "markdown",
      "metadata": {
        "id": "jwepdqrQ8gbd"
      },
      "source": [
        "Let's explore a Kaggle data set for Magnetic Resonance Imaging Comparisons of Demented and Nondemented Adults"
      ]
    },
    {
      "cell_type": "code",
      "metadata": {
        "id": "MoPZWyx27dIT"
      },
      "source": [
        "import numpy as np\n",
        "import matplotlib.pyplot as plt\n",
        "import pandas as pd\n",
        "import seaborn as sns"
      ],
      "execution_count": 35,
      "outputs": []
    },
    {
      "cell_type": "code",
      "metadata": {
        "colab": {
          "base_uri": "https://localhost:8080/",
          "height": 359
        },
        "id": "9c_OWIKr7nEq",
        "outputId": "88f737ef-9ade-4616-b39f-d03923e1e491"
      },
      "source": [
        "df=pd.read_csv('https://raw.githubusercontent.com/RealAshrafAhmed/ashahmed.io/main/colab/oasis_cross-sectional.csv', na_values='N/A')\n",
        "df.sample(10)"
      ],
      "execution_count": 43,
      "outputs": [
        {
          "output_type": "execute_result",
          "data": {
            "text/html": [
              "<div>\n",
              "<style scoped>\n",
              "    .dataframe tbody tr th:only-of-type {\n",
              "        vertical-align: middle;\n",
              "    }\n",
              "\n",
              "    .dataframe tbody tr th {\n",
              "        vertical-align: top;\n",
              "    }\n",
              "\n",
              "    .dataframe thead th {\n",
              "        text-align: right;\n",
              "    }\n",
              "</style>\n",
              "<table border=\"1\" class=\"dataframe\">\n",
              "  <thead>\n",
              "    <tr style=\"text-align: right;\">\n",
              "      <th></th>\n",
              "      <th>ID</th>\n",
              "      <th>M/F</th>\n",
              "      <th>Hand</th>\n",
              "      <th>Age</th>\n",
              "      <th>Educ</th>\n",
              "      <th>SES</th>\n",
              "      <th>MMSE</th>\n",
              "      <th>CDR</th>\n",
              "      <th>eTIV</th>\n",
              "      <th>nWBV</th>\n",
              "      <th>ASF</th>\n",
              "      <th>Delay</th>\n",
              "    </tr>\n",
              "  </thead>\n",
              "  <tbody>\n",
              "    <tr>\n",
              "      <th>221</th>\n",
              "      <td>OAS1_0243_MR1</td>\n",
              "      <td>M</td>\n",
              "      <td>R</td>\n",
              "      <td>64</td>\n",
              "      <td>5.0</td>\n",
              "      <td>2.0</td>\n",
              "      <td>22.0</td>\n",
              "      <td>0.5</td>\n",
              "      <td>1547</td>\n",
              "      <td>0.742</td>\n",
              "      <td>1.134</td>\n",
              "      <td>NaN</td>\n",
              "    </tr>\n",
              "    <tr>\n",
              "      <th>75</th>\n",
              "      <td>OAS1_0080_MR1</td>\n",
              "      <td>F</td>\n",
              "      <td>R</td>\n",
              "      <td>25</td>\n",
              "      <td>NaN</td>\n",
              "      <td>NaN</td>\n",
              "      <td>NaN</td>\n",
              "      <td>NaN</td>\n",
              "      <td>1628</td>\n",
              "      <td>0.857</td>\n",
              "      <td>1.078</td>\n",
              "      <td>NaN</td>\n",
              "    </tr>\n",
              "    <tr>\n",
              "      <th>357</th>\n",
              "      <td>OAS1_0395_MR1</td>\n",
              "      <td>F</td>\n",
              "      <td>R</td>\n",
              "      <td>26</td>\n",
              "      <td>NaN</td>\n",
              "      <td>NaN</td>\n",
              "      <td>NaN</td>\n",
              "      <td>NaN</td>\n",
              "      <td>1295</td>\n",
              "      <td>0.834</td>\n",
              "      <td>1.356</td>\n",
              "      <td>NaN</td>\n",
              "    </tr>\n",
              "    <tr>\n",
              "      <th>89</th>\n",
              "      <td>OAS1_0096_MR1</td>\n",
              "      <td>F</td>\n",
              "      <td>R</td>\n",
              "      <td>47</td>\n",
              "      <td>5.0</td>\n",
              "      <td>2.0</td>\n",
              "      <td>29.0</td>\n",
              "      <td>0.0</td>\n",
              "      <td>1357</td>\n",
              "      <td>0.809</td>\n",
              "      <td>1.294</td>\n",
              "      <td>NaN</td>\n",
              "    </tr>\n",
              "    <tr>\n",
              "      <th>419</th>\n",
              "      <td>OAS1_0101_MR2</td>\n",
              "      <td>M</td>\n",
              "      <td>R</td>\n",
              "      <td>29</td>\n",
              "      <td>NaN</td>\n",
              "      <td>NaN</td>\n",
              "      <td>NaN</td>\n",
              "      <td>NaN</td>\n",
              "      <td>1501</td>\n",
              "      <td>0.835</td>\n",
              "      <td>1.169</td>\n",
              "      <td>64.0</td>\n",
              "    </tr>\n",
              "    <tr>\n",
              "      <th>242</th>\n",
              "      <td>OAS1_0269_MR1</td>\n",
              "      <td>F</td>\n",
              "      <td>R</td>\n",
              "      <td>72</td>\n",
              "      <td>1.0</td>\n",
              "      <td>4.0</td>\n",
              "      <td>21.0</td>\n",
              "      <td>1.0</td>\n",
              "      <td>1489</td>\n",
              "      <td>0.683</td>\n",
              "      <td>1.179</td>\n",
              "      <td>NaN</td>\n",
              "    </tr>\n",
              "    <tr>\n",
              "      <th>106</th>\n",
              "      <td>OAS1_0114_MR1</td>\n",
              "      <td>M</td>\n",
              "      <td>R</td>\n",
              "      <td>62</td>\n",
              "      <td>2.0</td>\n",
              "      <td>4.0</td>\n",
              "      <td>30.0</td>\n",
              "      <td>0.0</td>\n",
              "      <td>1378</td>\n",
              "      <td>0.804</td>\n",
              "      <td>1.274</td>\n",
              "      <td>NaN</td>\n",
              "    </tr>\n",
              "    <tr>\n",
              "      <th>67</th>\n",
              "      <td>OAS1_0072_MR1</td>\n",
              "      <td>F</td>\n",
              "      <td>R</td>\n",
              "      <td>60</td>\n",
              "      <td>5.0</td>\n",
              "      <td>1.0</td>\n",
              "      <td>30.0</td>\n",
              "      <td>0.0</td>\n",
              "      <td>1402</td>\n",
              "      <td>0.823</td>\n",
              "      <td>1.252</td>\n",
              "      <td>NaN</td>\n",
              "    </tr>\n",
              "    <tr>\n",
              "      <th>382</th>\n",
              "      <td>OAS1_0422_MR1</td>\n",
              "      <td>F</td>\n",
              "      <td>R</td>\n",
              "      <td>69</td>\n",
              "      <td>4.0</td>\n",
              "      <td>3.0</td>\n",
              "      <td>29.0</td>\n",
              "      <td>0.0</td>\n",
              "      <td>1380</td>\n",
              "      <td>0.809</td>\n",
              "      <td>1.272</td>\n",
              "      <td>NaN</td>\n",
              "    </tr>\n",
              "    <tr>\n",
              "      <th>414</th>\n",
              "      <td>OAS1_0456_MR1</td>\n",
              "      <td>M</td>\n",
              "      <td>R</td>\n",
              "      <td>61</td>\n",
              "      <td>5.0</td>\n",
              "      <td>2.0</td>\n",
              "      <td>30.0</td>\n",
              "      <td>0.0</td>\n",
              "      <td>1637</td>\n",
              "      <td>0.780</td>\n",
              "      <td>1.072</td>\n",
              "      <td>NaN</td>\n",
              "    </tr>\n",
              "  </tbody>\n",
              "</table>\n",
              "</div>"
            ],
            "text/plain": [
              "                ID M/F Hand  Age  Educ  ...  CDR  eTIV   nWBV    ASF  Delay\n",
              "221  OAS1_0243_MR1   M    R   64   5.0  ...  0.5  1547  0.742  1.134    NaN\n",
              "75   OAS1_0080_MR1   F    R   25   NaN  ...  NaN  1628  0.857  1.078    NaN\n",
              "357  OAS1_0395_MR1   F    R   26   NaN  ...  NaN  1295  0.834  1.356    NaN\n",
              "89   OAS1_0096_MR1   F    R   47   5.0  ...  0.0  1357  0.809  1.294    NaN\n",
              "419  OAS1_0101_MR2   M    R   29   NaN  ...  NaN  1501  0.835  1.169   64.0\n",
              "242  OAS1_0269_MR1   F    R   72   1.0  ...  1.0  1489  0.683  1.179    NaN\n",
              "106  OAS1_0114_MR1   M    R   62   2.0  ...  0.0  1378  0.804  1.274    NaN\n",
              "67   OAS1_0072_MR1   F    R   60   5.0  ...  0.0  1402  0.823  1.252    NaN\n",
              "382  OAS1_0422_MR1   F    R   69   4.0  ...  0.0  1380  0.809  1.272    NaN\n",
              "414  OAS1_0456_MR1   M    R   61   5.0  ...  0.0  1637  0.780  1.072    NaN\n",
              "\n",
              "[10 rows x 12 columns]"
            ]
          },
          "metadata": {
            "tags": []
          },
          "execution_count": 43
        }
      ]
    },
    {
      "cell_type": "markdown",
      "metadata": {
        "id": "hFz5WR5L83jB"
      },
      "source": [
        "As always, let's check how many columns with nans"
      ]
    },
    {
      "cell_type": "code",
      "metadata": {
        "colab": {
          "base_uri": "https://localhost:8080/"
        },
        "id": "IHomYf-d73Z9",
        "outputId": "a7ed2c20-bbd6-4db2-eb02-49e2a09591f9"
      },
      "source": [
        "df.info()"
      ],
      "execution_count": 44,
      "outputs": [
        {
          "output_type": "stream",
          "text": [
            "<class 'pandas.core.frame.DataFrame'>\n",
            "RangeIndex: 436 entries, 0 to 435\n",
            "Data columns (total 12 columns):\n",
            " #   Column  Non-Null Count  Dtype  \n",
            "---  ------  --------------  -----  \n",
            " 0   ID      436 non-null    object \n",
            " 1   M/F     436 non-null    object \n",
            " 2   Hand    436 non-null    object \n",
            " 3   Age     436 non-null    int64  \n",
            " 4   Educ    235 non-null    float64\n",
            " 5   SES     216 non-null    float64\n",
            " 6   MMSE    235 non-null    float64\n",
            " 7   CDR     235 non-null    float64\n",
            " 8   eTIV    436 non-null    int64  \n",
            " 9   nWBV    436 non-null    float64\n",
            " 10  ASF     436 non-null    float64\n",
            " 11  Delay   20 non-null     float64\n",
            "dtypes: float64(7), int64(2), object(3)\n",
            "memory usage: 41.0+ KB\n"
          ],
          "name": "stdout"
        }
      ]
    },
    {
      "cell_type": "markdown",
      "metadata": {
        "id": "hOMF2WLp9TIK"
      },
      "source": [
        "Looks like the data needs a considerable amount of cleaning. Let's look at the statistics anyway"
      ]
    },
    {
      "cell_type": "code",
      "metadata": {
        "colab": {
          "base_uri": "https://localhost:8080/",
          "height": 297
        },
        "id": "R-gDxmpM9XMi",
        "outputId": "9ba7921b-94aa-4497-f8f1-da82855f33f7"
      },
      "source": [
        "df.describe()"
      ],
      "execution_count": 81,
      "outputs": [
        {
          "output_type": "execute_result",
          "data": {
            "text/html": [
              "<div>\n",
              "<style scoped>\n",
              "    .dataframe tbody tr th:only-of-type {\n",
              "        vertical-align: middle;\n",
              "    }\n",
              "\n",
              "    .dataframe tbody tr th {\n",
              "        vertical-align: top;\n",
              "    }\n",
              "\n",
              "    .dataframe thead th {\n",
              "        text-align: right;\n",
              "    }\n",
              "</style>\n",
              "<table border=\"1\" class=\"dataframe\">\n",
              "  <thead>\n",
              "    <tr style=\"text-align: right;\">\n",
              "      <th></th>\n",
              "      <th>Age</th>\n",
              "      <th>Educ</th>\n",
              "      <th>SES</th>\n",
              "      <th>MMSE</th>\n",
              "      <th>CDR</th>\n",
              "      <th>eTIV</th>\n",
              "      <th>nWBV</th>\n",
              "      <th>ASF</th>\n",
              "      <th>Delay</th>\n",
              "    </tr>\n",
              "  </thead>\n",
              "  <tbody>\n",
              "    <tr>\n",
              "      <th>count</th>\n",
              "      <td>436.000000</td>\n",
              "      <td>235.000000</td>\n",
              "      <td>216.000000</td>\n",
              "      <td>235.00000</td>\n",
              "      <td>235.000000</td>\n",
              "      <td>436.000000</td>\n",
              "      <td>436.000000</td>\n",
              "      <td>436.000000</td>\n",
              "      <td>20.00000</td>\n",
              "    </tr>\n",
              "    <tr>\n",
              "      <th>mean</th>\n",
              "      <td>51.357798</td>\n",
              "      <td>3.178723</td>\n",
              "      <td>2.490741</td>\n",
              "      <td>27.06383</td>\n",
              "      <td>0.285106</td>\n",
              "      <td>1481.919725</td>\n",
              "      <td>0.791670</td>\n",
              "      <td>1.198894</td>\n",
              "      <td>20.55000</td>\n",
              "    </tr>\n",
              "    <tr>\n",
              "      <th>std</th>\n",
              "      <td>25.269862</td>\n",
              "      <td>1.311510</td>\n",
              "      <td>1.120593</td>\n",
              "      <td>3.69687</td>\n",
              "      <td>0.383405</td>\n",
              "      <td>158.740866</td>\n",
              "      <td>0.059937</td>\n",
              "      <td>0.128682</td>\n",
              "      <td>23.86249</td>\n",
              "    </tr>\n",
              "    <tr>\n",
              "      <th>min</th>\n",
              "      <td>18.000000</td>\n",
              "      <td>1.000000</td>\n",
              "      <td>1.000000</td>\n",
              "      <td>14.00000</td>\n",
              "      <td>0.000000</td>\n",
              "      <td>1123.000000</td>\n",
              "      <td>0.644000</td>\n",
              "      <td>0.881000</td>\n",
              "      <td>1.00000</td>\n",
              "    </tr>\n",
              "    <tr>\n",
              "      <th>25%</th>\n",
              "      <td>23.000000</td>\n",
              "      <td>2.000000</td>\n",
              "      <td>2.000000</td>\n",
              "      <td>26.00000</td>\n",
              "      <td>0.000000</td>\n",
              "      <td>1367.750000</td>\n",
              "      <td>0.742750</td>\n",
              "      <td>1.111750</td>\n",
              "      <td>2.75000</td>\n",
              "    </tr>\n",
              "    <tr>\n",
              "      <th>50%</th>\n",
              "      <td>54.000000</td>\n",
              "      <td>3.000000</td>\n",
              "      <td>2.000000</td>\n",
              "      <td>29.00000</td>\n",
              "      <td>0.000000</td>\n",
              "      <td>1475.500000</td>\n",
              "      <td>0.809000</td>\n",
              "      <td>1.190000</td>\n",
              "      <td>11.00000</td>\n",
              "    </tr>\n",
              "    <tr>\n",
              "      <th>75%</th>\n",
              "      <td>74.000000</td>\n",
              "      <td>4.000000</td>\n",
              "      <td>3.000000</td>\n",
              "      <td>30.00000</td>\n",
              "      <td>0.500000</td>\n",
              "      <td>1579.250000</td>\n",
              "      <td>0.842000</td>\n",
              "      <td>1.284250</td>\n",
              "      <td>30.75000</td>\n",
              "    </tr>\n",
              "    <tr>\n",
              "      <th>max</th>\n",
              "      <td>96.000000</td>\n",
              "      <td>5.000000</td>\n",
              "      <td>5.000000</td>\n",
              "      <td>30.00000</td>\n",
              "      <td>2.000000</td>\n",
              "      <td>1992.000000</td>\n",
              "      <td>0.893000</td>\n",
              "      <td>1.563000</td>\n",
              "      <td>89.00000</td>\n",
              "    </tr>\n",
              "  </tbody>\n",
              "</table>\n",
              "</div>"
            ],
            "text/plain": [
              "              Age        Educ         SES  ...        nWBV         ASF     Delay\n",
              "count  436.000000  235.000000  216.000000  ...  436.000000  436.000000  20.00000\n",
              "mean    51.357798    3.178723    2.490741  ...    0.791670    1.198894  20.55000\n",
              "std     25.269862    1.311510    1.120593  ...    0.059937    0.128682  23.86249\n",
              "min     18.000000    1.000000    1.000000  ...    0.644000    0.881000   1.00000\n",
              "25%     23.000000    2.000000    2.000000  ...    0.742750    1.111750   2.75000\n",
              "50%     54.000000    3.000000    2.000000  ...    0.809000    1.190000  11.00000\n",
              "75%     74.000000    4.000000    3.000000  ...    0.842000    1.284250  30.75000\n",
              "max     96.000000    5.000000    5.000000  ...    0.893000    1.563000  89.00000\n",
              "\n",
              "[8 rows x 9 columns]"
            ]
          },
          "metadata": {
            "tags": []
          },
          "execution_count": 81
        }
      ]
    },
    {
      "cell_type": "markdown",
      "metadata": {
        "id": "gXbu6TEJDmWj"
      },
      "source": [
        "It is hard to expore the data numerically at first. Let's take a look at 2 correlations."
      ]
    },
    {
      "cell_type": "code",
      "metadata": {
        "id": "8rhIqx-q9Z4o"
      },
      "source": [
        "sns.pairplot(df)\n",
        "plt.show()"
      ],
      "execution_count": null,
      "outputs": []
    },
    {
      "cell_type": "markdown",
      "metadata": {
        "id": "VaYZQcuJ-dEN"
      },
      "source": [
        "There seems to be a correlation between age and nWBV. Let's start by looking at the distributions of males to females  and its relation to nWBV"
      ]
    },
    {
      "cell_type": "code",
      "metadata": {
        "colab": {
          "base_uri": "https://localhost:8080/",
          "height": 279
        },
        "id": "0FfVoZ3x9sz0",
        "outputId": "b9dd4037-46d3-4dbc-88e0-0f5033082c4c"
      },
      "source": [
        "sns.boxplot(data=df, x='M/F', y='nWBV', hue='Hand')\n",
        "plt.show()"
      ],
      "execution_count": 59,
      "outputs": [
        {
          "output_type": "display_data",
          "data": {
            "image/png": "[encoded data removed]",
            "text/plain": [
              "<Figure size 432x288 with 1 Axes>"
            ]
          },
          "metadata": {
            "tags": [],
            "needs_background": "light"
          }
        }
      ]
    },
    {
      "cell_type": "code",
      "metadata": {
        "colab": {
          "base_uri": "https://localhost:8080/",
          "height": 279
        },
        "id": "xPBT8-G4-1EM",
        "outputId": "e1ab8dd3-cdb3-4e6d-aad2-abfcf263b3be"
      },
      "source": [
        "sns.boxplot(data=df, x='M/F', y='Age', hue='Hand')\n",
        "plt.show()"
      ],
      "execution_count": 60,
      "outputs": [
        {
          "output_type": "display_data",
          "data": {
            "image/png": "[encoded data removed]",
            "text/plain": [
              "<Figure size 432x288 with 1 Axes>"
            ]
          },
          "metadata": {
            "tags": [],
            "needs_background": "light"
          }
        }
      ]
    },
    {
      "cell_type": "markdown",
      "metadata": {
        "id": "Z_VIvTEqBTZi"
      },
      "source": [
        "The 2 factors seems to be well balanced on gender. Let's look at the distributions of Age and nWBV"
      ]
    },
    {
      "cell_type": "code",
      "metadata": {
        "colab": {
          "base_uri": "https://localhost:8080/",
          "height": 295
        },
        "id": "YUANYETBBOTG",
        "outputId": "9cd15f33-fc2b-478c-9eee-9148528cdbf2"
      },
      "source": [
        "plt.subplot(121)\n",
        "plt.hist(df.Age/len(df.Age))\n",
        "plt.xlabel('Age')\n",
        "plt.ylabel('Frequencies')\n",
        "plt.title(\"Distribution of Age\")\n",
        "plt.subplot(122)\n",
        "plt.hist(df.nWBV/len(df.Age))\n",
        "plt.xlabel('nWBV')\n",
        "plt.title(\"Distribution of nWBV\")\n",
        "plt.show()"
      ],
      "execution_count": 80,
      "outputs": [
        {
          "output_type": "display_data",
          "data": {
            "image/png": "[encoded data removed]",
            "text/plain": [
              "<Figure size 432x288 with 2 Axes>"
            ]
          },
          "metadata": {
            "tags": [],
            "needs_background": "light"
          }
        }
      ]
    }
  ]
}